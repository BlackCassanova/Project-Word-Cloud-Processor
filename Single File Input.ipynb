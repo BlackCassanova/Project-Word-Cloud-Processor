{
 "cells": [
  {
   "cell_type": "code",
   "execution_count": 1,
   "metadata": {},
   "outputs": [],
   "source": [
    "import warnings\n",
    "warnings.filterwarnings('ignore')\n",
    "import pickle\n",
    "import pandas as pd\n",
    "import numpy as np\n",
    "from matplotlib import pyplot as plt\n",
    "%matplotlib inline\n",
    "import matplotlib\n",
    "matplotlib.rcParams[\"figure.figsize\"]=(20,10)\n",
    "import os"
   ]
  },
  {
   "cell_type": "code",
   "execution_count": 2,
   "metadata": {},
   "outputs": [
    {
     "data": {
      "text/plain": [
       "{0: 'Swallowed Earth\\nby Emerson R.C. Andrews\\n\\nIn the Benapole refugee camp, restless families stumbled through the oppressive haze of uncertainty. In the shadows of the border gates, Abir stood in line and collected his handful of rice and eighty takas from the border officials. He bought haleem and hand-rolled bidis on the way home. Border Security Forces roamed the dusty streets in military gear, occasionally stopping women and men dressed in hijab or topi. More people arrived every day. \\nAbir saw Safina, dressed in her once-elegant green abaya, heading to the market. He looked her in the eyes and his stomach tightened. \\n“Where are you going, my heart?” he asked.\\nSafina intensified her gaze. “Where have you been, husband? There is a rally today! The phiringi BSF has not let anyone through in weeks.”\\n“A rally? How can that help?”\\n“Oh husband, sometimes you surprise me. If nothing changes, we will need to leave. Again. Food and water are running out. They can’t stop all of us.”\\n“OK, my heart.”\\nSafina nodded her head sharply as a tight smile crept onto her face. She opened her bag for Abir to store his things, and then led him to the market. Thousands of people chanted in the packed center square.\\n“OPEN THE GATE! OPEN THE GATE! OPEN THE GATE!”\\nThe din grew louder as the crowd grew in numbers. Abir grabbed Safina’s hand and joined the throng of protestors. The amoebic mass of people spread throughout the dirt streets of camp until the daily affairs of Benapole ground to a halt. \\nCheering erupted when a small force of BSF guards arrived in armored trucks. The captain climbed on top of his truck while his men climbed atop the corrugated metal roofing of the market and formed a semi-circle around the crowd. The captain grabbed a megaphone.\\n“PLEASE RETURN TO YOUR TENTS! ALL REFUGEES WHO DO NOT RETURN TO YOUR TENTS WILL BE DETAINED. PLEASE RETURN TO YOUR TENTS.”\\nThe crowd responded with a collective groan and then continued to chant.\\n“OPEN THE GATE! OPEN THE GA…”\\nThe mass of protestors grew restless and pushed into the checkpoint gates. People on the edges of the mob climbed onto the metal roofs and threw rocks and empty bottles at the guards. Abir’s stomach tightened as he watched the situation unfold.\\n The guards drew their guns and fired into the crowd. People screamed as red blooms of blood quickly stained their clothes. Abir wrapped his arm around Safina and frantically searched for a way out of the square. A wave of stampeding people roared behind them. Bullets whipped through the air and struck fleeing bodies with soft thuds. Abir pulled Safina close and wrapped his arms around her as he searched for a way out of the instant mayhem of the massacre. Abir saw an opening in the haze, and moved to leave when the weight of Safina yanked on his arm. She lurched forward and slumped onto the ground. Haleem leaked from her bag and mixed with her blood in the dirt. \\nAbir choked on his own shock as the unreality of tragedy pulsed around him. He dragged Safina into a nearby stall and hid with her in a dark corner behind an old wooden table. Everything Abir knew and loved was slipping away again, and all he could think about was telling his daughter. He held his wife and softly kissed her hair. \\n#\\n\\tAva clawed her way onto the soggy bank. Her dive-sack hung heavy. She scrambled and slid through the mud until she reached a small grove of mangrove trees. After a few deep breaths, she toweled off her exposed brown skin and scratched the adjacent rashes. Hunger pulled at her. She stripped off her yellowed goggles, the heavily patched wet-suit, and sat in the shade cast by the trees. As she sorted through her sack, her lanky body settled deeper into the squish of mud. Daylight transformed the underwater loot into the abandoned odds and ends of everyday life.\\nThe drowned buildings of Barikali peeked out of the water. The floods had swallowed the town months ago. The rise and fall of seasonal floods defined her life. She played guessing games with her father, taking turns predicting both the height of the next flood and how long it would take to slide back to the ocean. But when the big flood came, things changed. The internet had shut down and disconnected Barikali from the world. They had stopped eating rice and shrimp and started eating rotten vegetables and the rations the Red Cross handed out. She could not remember the day when the camps became New Barikali, but she remembered the day her parents had left for the border in search of a livable future.\\nThe green waters of the shallows sloshed a poisonous mix of bacteria, leaching chemicals, and shit. The water smelled of salt and death. People lost their eyes or wasted away because the water infiltrated their tear ducts and splashed into their mouths. Broken bits of colorful plastic and soggy garbage splashed in the water between the curled, waxy leaves of the abundant kochuripana. In the months since the big flood, kochuripana had covered most of the shore, trapping boats and floating furniture. The shallows were dangerous, but Ava knew what bobbed underneath the floodwaters.\\nAva perused her inventory, cleaning off the salvageable items, and tossing the rest into the muck. She gathered her gear and walked toward the market, hoping to catch Paban before he closed his stall. For weeks he had complained about his crumbling sandals; held together with random bits of wire and rubber. Today she had found good sandals, better sandals, tied to the skeleton of someone’s abandoned underwater home. If she kept a good pace, she could ignore her stomach and make it to the market. \\nHer feet dug into the moist pathway, stomping in sequence with each breath. The road to the market cut through the green and brown patchwork of the abandoned rice fields, each bordered by low-standing babul trees. Broken structures littered the landscape, abandoned by families who fled north to Dhaka or west to India. \\nWhen she was close to the market, Ava turned a corner and saw an International Security Guard harassing a refugee woman. The guard beat the woman as she wailed in resistance. Her face was covered in dirt and blood. She cried in the mud while he laughed. The guards made Ava tense. They came after the big flood and told everyone what to do. They didn’t help, they yelled at people for breaking the rules. But their rules were not Barikali rules. She wanted to help the woman, but she had problems of her own. Best to keep your head low. She waited until the guard was distracted and snuck into a drainage ditch alongside the stream that cut through the center of town. When she was far enough away, she hopped back onto the road and walked into the market.\\nThe aromas of fried meat and candy fought with the stench of garbage and stagnant water. Each ragged tarpaulin stall displayed a variety of recovered wares and goods, from rusty knives and cookware to soggy spices and withered vegetables. Refugees from the islands camped in the alleys, amongst the few belongings they still possessed, dressed in tattered clothing that was once expensive. Water-wallas walked throughout the market, hocking bottled water from bundles atop their heads. The new market was dirty and small, but Paban was still there. \\nAva approached Paban’s stall with the sandals dangling from her hand, brandishing her spoils for all to see. Paban beamed with a gap filled smile.\\n“Hey there little Ava, looks like you have found quite the cache.”\\n“That’s right Mister P. The perfect pair of sandals for you.”\\nPaban’s face winced. “Oh, my Ava, how very smart of you. But, lucky me, I traded for a good pair of sandals today. Look!”\\nPaban displayed his new footwear for Ava to see. Ava shrank into herself. She swallowed hard to keep her cool, and replied.\\n“I see Paban. I am happy for you. You needed good sandals...”\\nAva thought about polite things to say to Paban, but she could only think about how to get more food. She kept talking until she choked on her own shock. Unable to say anything else, she lowered her head and stared at the ground.\\n“It is OK, my Ava. I have sandals for me, but I still need sandals for my sweet Basu. She will be delighted when she sees what I bring home. To be honest, I was a little worried about what she would think when she saw me in my new sandals. Now I can make us both happy.”\\nAva lifted her head with a big smile. She wiped off the stray tears pushing their way out and collected herself.\\n“What do I get for finding your Basu sandals?”\\nPaban remained quiet as he put together a sack of food for Ava. The sack swung with eggplants, water spinach, poppy seeds, a small bag of spices, and some unripe mangoes. Ava smiled big and hugged Paban.\\nAfter collecting the food from Paban, Ava traded a couple rusted pans and a water-logged footstool for a couple bottled waters. She said goodbye to Paban as she left the market, and sang to herself on the way home.\\nNew Barikali was a row of shanties made of cheap tarpaulin, corrugated metal, and sticks. She walked the muddy path until she came upon her Nani resting in a makeshift cot.\\n“Nani, Nani, look what I got for us today. We will eat like queens.”\\nThe old woman opened her eyes and smiled. She straightened her withered body into a sitting position, put on slippers, and wrapped a white scarf around her head. Her papery fingers caressed Ava’s face until they met the festering rashes.\\n“What happened to you my dear? Your face is full of rash.”\\nAva brushed Nani’s hand away and refused to reply. She was hungry and focused on curry. She rummaged through the shanty until she found the gas can, portable stove, and pot.  Nani gently grabbed her hands and made Ava pause for a second. When Ava stopped, Nani sat prepared with the government-issued first aid kit. The old woman wiped Ava’s rash with disinfectant and then rubbed cream onto the reddened bumps. Ava hated the dirty plastic box. She hated the shots the know-better doctors forced her to take. She hated the taste of the chalky pills Nani forced her to swallow. \\nAva had grown accustomed to Nani’s pushy care ever since her parents left to find a better home. All she needed to do was put up with it until they received the letter from mom and dad. Life would transform again into something strange and new.\\nNani talked to Ava while she prepared the food. “You know, people in town, talking about another flood. We need to leave soon.”\\n“Leave soon. What? We don’t need to leave. I was just at the market today. Things are fine Nani.”\\nThe smell of curry filled the shanty. Ava grabbed a couple of spoons, turned off the stove, and ate straight from the pot with Nani. The sun sank fast and the shanty grew dark. Ava fell asleep to the clang of cooking utensils, muted conversations, and the rustle of weathered fabric in the wind.\\nAva jolted awake at the sound of the International Security Guards’ loudspeaker broadcast. Nani already stood in the footpath. It was so early in the morning. It took a few moments for Ava to orient herself and make sense of the broadcast.\\n“ATTENTION! EMERGENCY STORM WARNING! TIDE LEVELS ARE EXPECTED TO PERMANENTLY RISE WITHIN THE NEXT 30 DAYS. THIS AREA IS NO LONGER SAFE TO OCCUPY. PLEASE EVACUATE THE AREA WITHIN 72 HOURS. ANY PROPERTY LEFT BEHIND WILL BE DISPOSED OF AND INCINERATED. ANY SQUATTERS WILL BE ARRESTED AND FINED. ATTENTION!”\\nNani looked inside the shanty and caught Ava’s eye. She smiled with tight lips, sighed, and came back inside. Nani settled back into her cot, started the coffee pot, and looked at Ava again.\\n“Ava, sweet child, it is time to move.”\\n“It’s OK Nani, there are plenty of fields we can live on. I will find the best spot for us today.”\\nNani sighed again. “Ok sweet Ava, you go do that.”\\nAva jumped up and ran out of the shanty and down the footpath. She dashed for the abandoned fields to claim a spot for her and Nani. Security guards crawled all over town. They yelled at the camped refugees from behind their masks and guns. Ava made sure to take the back alleys and drainage ditches. She stopped by the market and caught Paban setting up his booth for the day.\\n“Paban! Paban! We have to move again. I am going to get the best new spot with the best new view.”\\nPaban turned and met her excitement with a grave expression.\\n“What is it Paban?”\\n“Oh Ava, I have some news for you. Come here and sit down.”\\n“I know Paban, the tide is going to be higher. But higher tides mean more stuff.”\\nPaban exhaled, grabbed Ava’s hand, and looked her in the eyes.\\n“What is it Paban? Why are you staring at me like that!?”\\n“Ava, there is news from the border. With all the new floods coming in… so much has happened. People are talking. Your parents, they are missing.”\\nPaban’s words didn’t make sense. What did he mean they are missing? Missing? Were they dead? Paban interrupted Ava’s spinning questions with a light touch on her shoulder.\\n“Ava, the border guards… they… there was a protest, a rally… everyone wanted to cross the border… and the guards… they had guns… and they shot at the people… they killed so many… so many people…”\\nAva fell silent. How could her parents be missing? Her dad had promised her a future full of possibilities that were quickly becoming the measure of what she had lost. She walked away from Paban without knowing where she was going. She walked until she found herself in Nani’s arms.\\nThey rounded up their loose belongings and left to claim another spot of abandoned farmland. The last mist of the morning steamed into the clouds as the sun pushed onto the foliage in the overgrown field. Ava mindlessly trudged behind Nani until they found a decent spot next to an abandoned storage shack. They began building when three armed guards interrupted them.\\n“What’s going on here?”\\n“We are building sir, water is coming up and we need to move.”\\n“We are aware that the water level is rising. I am asking you why you are building here?”\\n“We are building here because of the water. You want to wait for the flood to carry us?”\\nThe guard intensified his tone of voice and rested his hand on top of his baton. “You need to stop building here. All refugees must register with one of the camps or continue to the border.”\\n“Refugees?” Nani said the word as if it didn’t make sense in her mouth. She stared at the guard for a long time. “We are not refugees. This is our home. I am Barikali,” she slapped her chest, “and this is my granddaughter. You want refugees, you go bother the people who are coming in every day in all different kinds of boats. This is our home. This is all we have left. I am not a refugee.”\\n“All refugees must register with one of the local camps or continue to the border.”\\n“We can’t go to the border. Did you hear? We are not going to the border. We are staying here in Barikali. We are…”\\nA second guard struck Nani from behind with a swing of his club. Her old body fell hard on the wet earth. Ava moved to grab Nani when a third guard grabbed her around the waist. Ava flailed and kicked to get to Nani while the first guard squatted down and lifted Nani by the shirt.\\n“Barikali does not exist anymore. Barikali is under the water. You are a refugee. All refugees must register with the camps or continue to the border. I suggest you continue to the border. I am giving you ten minutes to gather your trash and go!”\\nThe guard released his grip and Nani’s head fell to the ground. He motioned for his men to release Ava and follow him. She ran to her grandmother and held her. Blood stained the scarf around Nani’s neck and shoulders. Ava sobbed into her grandmother’s chest.\\n“It is ok my Ava. I will be ok. We need to move. Grab the things and let’s go.”\\nAva wrapped the cots, the stove, and some cookware into the tarpaulin and loaded it onto her back. The ropes of her hodgepodge pack dug into the skin of her shoulders. They left many things behind. She remembered the mangroves by her dive spot. They could camp there, invisible to the guards, at least until the water rose again. \\nAva helped Nani to her feet and walked her toward the water. The humidity stuck to them as they hobbled down the dirt road. Nani required several breaks and drank most of the water. Travel moved slowly. Ava needed to find Paban, or another vendor, to trade for more food. As long as they could get to the spot before the sunset, they would be ok.\\nBoth women limped through the afternoon. Ava worried about her grandma, though at the same time she was in awe of the woman\\'s ability to walk throughout the muggy day. When they reached their destination, Ava set up a makeshift camp under her favorite tree and invited Nani to rest on the cot. Ava grabbed disinfectant wipes from the first aid kit, peeled back the bloody scarf, and wiped down her grandmother’s neck. Ava noticed a deep gash at the base of Nani’s head. Layers of pink flesh surrounded a shallow pool of dark blood. The fresh mélange of yellow and purple around the wound turned Ava’s stomach. Ava helped Nani lay back into the cot and covered her with an emergency blanket.\\nOnce Nani was set up, Ava grabbed her dive gear and raced to the water. As she passed the tree line into the clearing, the sight of a dozen security guards shocked her into silence. She hid behind a cluster of bushes and spied the men while they combed the beach.\\nAva watched the guards for hours. She wanted them to leave so she could get to work. In the boredom of waiting, Ava picked at her rashes. After a couple of hours, the sun dipped behind the horizon. A piercing wind blew in from off the water. It was going to rain soon. She gave up and returned to her camp.\\nThe rain had soaked Ava by the time she reached Nani. Their loosely tethered shelter did little to stop the rain. Her grandma shivered on the wet cot. Ava sat down beside her grandmother and rested her head on Nani’s stomach. Hunger gnawed at her as she unsuccessfully slept. She tossed and turned until her frustration broke into sobs.\\n“I’m scared Nani. Where are we going to go? What are we going to do? What are we…?”\\nNani rested a weak hand on Ava’s head. They endured the pouring rain, curled together under the metallic blanket. Nani’s breathing grew raspy and shallow. Ava’s mind ran in cycles. She forced her eyes closed. As long as she could hear a heartbeat, she could keep going. As long as Nani was alive they would find a way.\\nAwa woke under the crush of the mid-morning sun. Blood stained the cot beneath Nani’s pale body. Ava shook her grandma awake. Nani responded by slightly opening her eyes. \\n“Nani, the sun is out. I can go get us some food. You stay here and rest,” Ava said while she organized her dive gear.\\nNani opened her eyes to look at Ava.\\n“Ava, my sweet Ava, don’t come back, you need to go. You need to go.” Nani whispered.\\n“What?! No. No no no.\" Ava grabbed Nani’s hands and tugged at them, \"You\\'re my Nani, I can\\'t leave you. Where would I go without you?”\\n“I know sweet Ava, but you need to go. There is nothing left here. You need to go…”\\nNani coughed and lay back down on the cot. Ava stared at Nani’s resting body, noticing for the first time her grandmother’s fragility. She would not leave Nani behind. Ava grabbed her daypack and headed to the clearing. This time she would be careful.\\nFive guards moved around on the soggy bank. Ava’s heart sank into her belly. She snuck behind a small muddy island topped with grass and examined the scene. Four of the guards piled junk in the sand while the leader of the squad read some sort of instruction manual next to a heavily secured black crate. The guards were giants. She heard about gene-edited soldiers, but she didn’t ever think she would see them. Especially not here in Barikali. Why are soldiers in a refugee area?\\nAfter a few moments, the squad leader grabbed an oblong metal orb as big as a badam nut and took it over to the heap of junk. The guards, or soldiers, finished piling the scrap and formed into a circle around their collection. The leader did something to the metal nut, threw it on the pile, and then stepped back. Metallic tendrils rose and plunged into the junk. It was hard to make sense of what was going on. Tentacles burst forth and drilled back into the pile. A shaft of silver metal shot up out of the mass and began forming shapes. The shapes turned into what looked like a gun. The skeletal gun transformed from a basic structure into a detailed weapon in a matter of minutes. When the pulsating mass came to a stop, the leader grabbed the newly printed rifle and a devilish smile spread across his face.\\n“Ooie! Take a look at that!” The leader boasted to the squad, “I got me a brand-new rifle out a pile of fucking trash.”\\nHe looked over every inch of the glistening gun until he was satisfied, and shot a charge into the mud. Ava gasped in response and the four enhanced soldiers whipped their heads in her direction. She covered her mouth and jumped behind the outcropping. She shook with terror. Heavy footsteps thundered toward her. There was no time to put on her wet suit, but she needed to slip away through the nasty water. She hesitated for a moment, grabbed her goggles, and slithered into the shallows. \\nShe swam beneath the floating mat of kochuripana, emerging on the far side of the clearing behind a cluster of muddy mounds. From here she saw the wide-open crate, filled with hundreds of strange metallic balls. The leader inspected the test pile while the squad searched for her on the other side of the clearing. \\nAva contemplated her situation. She could take a few of these orbs and trade them for something big. She slid down the mound until she was behind the secured box ‒ the crate had no markings except for a very small Acesotech logo. She double-checked to make sure the leader was distracted, swiped three pods and the manual from the box, and clambered back to her hiding spot.\\nShe did it! She did not have long to celebrate, she heard the guards returning and she had to take another exposed trip back through the water.\\nAva hurried back to Nani with the weapon-makers in her pocket. They needed to leave Barikali, but with the orbs, Nani and her would have enough to leave by boat instead of dealing with the border. Her joy allowed her to ignore the irritation dancing along her rashes. \\nAva noticed big boot tracks in the dried mud. Loud noises broke the rhythm of the waves. The soldiers had tracked Ava’s morning footsteps back to camp, all of this was her fault. \\nAva tiptoed into the stand of trees from another direction and watched the super-soldiers destroy her ragged excuse for home. One of the thugs carried Nani over his shoulder while the other three smashed everything. Her entire world shattered into useless fragments. Ava bolted toward the broken dwelling when Nani interrupted her.\\n“GO Ava! RUN!”\\nThe soldier hit Nani and she slumped into silence. Ava screamed and two of the giant freaks sprinted after her.\\nAva ran as fast as she could. She hurried through the drainages, past the market, and kept running until she reached the old shanty. The camp resembled a graveyard. A few shacks had not been torn down yet. She hid in the first empty one she saw. Her stomach roiled with nausea. Was Nani dead? Tears ran down her face and she collapsed onto the floor.\\n\\n\\tAva wept until one of the barbarians burst into the shack. His giant frame blocked the doorway. She slipped between his legs and ducked into another abandoned shack. He barged out of the hovel, taking most of it with him, and barreled toward her yet again. She sprinted through the old shanty, weaving in and out of the bones of New Barikali. He chased her through the broken camp when he unexpectedly fell with a thud. He had slipped in the mud and his head had collided with exposed rock. \\n\\nAva’s heart pounded in her chest. She had been on the run for what felt like hours and it was now late afternoon. At the sight of a small grove of trees, she stopped running and hid between the fanned roots of a sundari tree. She ignored the thump of her heart and focused on the sounds coming from the faint light of early evening. Branches groaned beneath the fluttering leaves of the canopy while the songs of insects trilled in arrhythmic tempos. She calmed herself by staring into the darkening night sky through gaps in the understory. \\nGrass rustled behind her, and as Ava turned to look, a large hand grabbed her ankle and yanked her into the air. Ava closed her eyes, expecting the hard impact of the ground, but her body remained suspended, and settled into a slow sway. She opened her eyes.\\n\\t“Hey there you little rat. Now we got you. Where are the seed-printers?”\\n\\tAva thought about the orbs in her pocket. \\n\\t“Where are the seed-printers?” He lifted her up to look her in the eye.\\n\\t“I don’t have your stupid printers. Let me go!”\\n\\t“I don’t think so kid, you’re coming with me.”\\n\\tAva struggled to release herself from the gene-freak’s concrete hands but his grip tightened. She writhed until she ran out of breath, and went slack on the brute’s shoulder. He threw her on the ground and rummaged through her bag.\\n\\t“Where are the fucking seed-printers?”\\n\\tAva reached into her pocket and grabbed one of the orbs.\\n“Hey,” Ava smiled, “I think I found one.”\\n\\t“Give it here!”\\n\\tAva pushed a recessed button on the metallic ball and shoved it into the guard’s hands. The guard smiled and pushed Ava back to the ground.\\n\\tHe inspected the object closely. “To think that a water rat like you almost ruined the whole fucking operation. Stupid shithole rat. All this work you did for nothing. What did you think you were going to do? Sell this at the market?”\\n\\tAva backed away from the guard as he talked.\\n\\tHis evil grin warped into an angry snarl. “Where do you think you are going, I am not done with you.”\\n\\tThe guard reached out to grab Ava when a metal thread shot from the seed-printer and pierced his forehead. He motioned to throw the seed-printer into the grass as hundreds of gossamer fibers rapidly bored into the flesh of his hand. Horror crept across his face. Another metal fiber stabbed into his chest. In a matter of seconds, dozens of strands of metal snaked throughout his body.\\n\\nThe surging mass of seed-printer filaments brought the guard down to the ground. Ava crawled backward away from the mess. She stumbled to get up and collapsed back to the earth. She coiled into the fetal position and ignored the guard’s terror. She plugged her ears and rocked back and forth in the dirt. After a few minutes she came back to herself, and slowly stood up to see what happened.\\n\\n\\tThe man’s body lay still on the ground, a shaft of metal stuck out of his chest. An object, in the rough shape of a gun, rested atop the shaft. A red LED blinked in the center of the entangled mass. Ava stared senselessly at the disaster. Her instincts told her to run, but she worried about Nani. \\n\\nThe sound of approaching soldiers forced her decision. She scurried away from them, away from Barikali. Her feet thumped down the dark road until exhaustion choked her pace to a slow meander.  \\n\\nShe stumbled through the day. Ragged strips of muddy clothing dangled around her small frame. Each step a labor. The sun cracked the horizon and drifted up into the sky until it settled into the humid soup of afternoon. Sweat ran down her forehead and congealed with the layers of dried mud smudged on her brown skin. The road stretched on in front of her. An old man appeared, walking the other direction.\\n\\t“Where are you going little one?”\\n\\tHer lips cracked open. “To the border.”\\n\\t“Oh, I wouldn\\'t go there. People all dead that way. You should turn around and go back to Barikali.”\\n\\t“Can’t go back somewhere that doesn’t exist.”\\n\\tThe man stared at her for a moment. \\n\\t“Border just as bad as Barikali, at least go north, but don’t go to the border, and never go to the forest.”\\n\\tAva stared back at the withered man, gave no response, and turned around to walk away. She needed to go, but she did not know where. She reached down and grasped the strange orbs.\\n\\n'}"
      ]
     },
     "execution_count": 2,
     "metadata": {},
     "output_type": "execute_result"
    }
   ],
   "source": [
    "data = {}\n",
    "f =  open(\"Swallowed Earth.txt\", \"r\", encoding=\"utf8\")\n",
    "data[0] = f.read()\n",
    "data"
   ]
  },
  {
   "cell_type": "code",
   "execution_count": 3,
   "metadata": {},
   "outputs": [
    {
     "data": {
      "text/html": [
       "<div>\n",
       "<style scoped>\n",
       "    .dataframe tbody tr th:only-of-type {\n",
       "        vertical-align: middle;\n",
       "    }\n",
       "\n",
       "    .dataframe tbody tr th {\n",
       "        vertical-align: top;\n",
       "    }\n",
       "\n",
       "    .dataframe thead th {\n",
       "        text-align: right;\n",
       "    }\n",
       "</style>\n",
       "<table border=\"1\" class=\"dataframe\">\n",
       "  <thead>\n",
       "    <tr style=\"text-align: right;\">\n",
       "      <th></th>\n",
       "      <th>Chapters</th>\n",
       "      <th>Content</th>\n",
       "    </tr>\n",
       "  </thead>\n",
       "  <tbody>\n",
       "    <tr>\n",
       "      <td>0</td>\n",
       "      <td>0</td>\n",
       "      <td>Swallowed Earth\\nby Emerson R.C. Andrews\\n\\nIn the Benapole refugee camp, restless families stumbled through the oppressive haze of uncertainty. In the shadows of the border gates, Abir stood in l...</td>\n",
       "    </tr>\n",
       "  </tbody>\n",
       "</table>\n",
       "</div>"
      ],
      "text/plain": [
       "   Chapters  \\\n",
       "0         0   \n",
       "\n",
       "                                                                                                                                                                                                   Content  \n",
       "0  Swallowed Earth\\nby Emerson R.C. Andrews\\n\\nIn the Benapole refugee camp, restless families stumbled through the oppressive haze of uncertainty. In the shadows of the border gates, Abir stood in l...  "
      ]
     },
     "execution_count": 3,
     "metadata": {},
     "output_type": "execute_result"
    }
   ],
   "source": [
    "pd.set_option('max_colwidth',200)\n",
    "df1 = pd.DataFrame.from_dict(data, orient = 'index')\n",
    "df1 = df1.reset_index()\n",
    "df1.columns = ['Chapters', 'Content']\n",
    "df1"
   ]
  },
  {
   "cell_type": "code",
   "execution_count": 4,
   "metadata": {},
   "outputs": [],
   "source": [
    "import re\n",
    "import string\n",
    "\n",
    "def round1(text):\n",
    "    #lower the Text\n",
    "    text = text.lower()\n",
    "    # Remove Numbers \n",
    "    text = re.sub(r\"\\d+\", \"\", text)\n",
    "    # Remove Symbols and special characters\n",
    "    # ^\\w return true if not alphanumereic \n",
    "    text = re.sub(r'[^\\w]', ' ', text)\n",
    "    # Remove more than a single whitespace \n",
    "    text = ' '.join(text.split())\n",
    "    # Remove Leading and Trailing Whitespaces\n",
    "    text = text.strip()\n",
    "    return text\n",
    "rnd1 = lambda x: round1(x)"
   ]
  },
  {
   "cell_type": "code",
   "execution_count": 5,
   "metadata": {},
   "outputs": [
    {
     "data": {
      "text/html": [
       "<div>\n",
       "<style scoped>\n",
       "    .dataframe tbody tr th:only-of-type {\n",
       "        vertical-align: middle;\n",
       "    }\n",
       "\n",
       "    .dataframe tbody tr th {\n",
       "        vertical-align: top;\n",
       "    }\n",
       "\n",
       "    .dataframe thead th {\n",
       "        text-align: right;\n",
       "    }\n",
       "</style>\n",
       "<table border=\"1\" class=\"dataframe\">\n",
       "  <thead>\n",
       "    <tr style=\"text-align: right;\">\n",
       "      <th></th>\n",
       "      <th>Chapters</th>\n",
       "      <th>Content</th>\n",
       "    </tr>\n",
       "  </thead>\n",
       "  <tbody>\n",
       "    <tr>\n",
       "      <td>0</td>\n",
       "      <td>0</td>\n",
       "      <td>swallowed earth by emerson r c andrews in the benapole refugee camp restless families stumbled through the oppressive haze of uncertainty in the shadows of the border gates abir stood in line and ...</td>\n",
       "    </tr>\n",
       "  </tbody>\n",
       "</table>\n",
       "</div>"
      ],
      "text/plain": [
       "   Chapters  \\\n",
       "0         0   \n",
       "\n",
       "                                                                                                                                                                                                   Content  \n",
       "0  swallowed earth by emerson r c andrews in the benapole refugee camp restless families stumbled through the oppressive haze of uncertainty in the shadows of the border gates abir stood in line and ...  "
      ]
     },
     "execution_count": 5,
     "metadata": {},
     "output_type": "execute_result"
    }
   ],
   "source": [
    "df2 = df1.copy()\n",
    "df2['Content'] = df2['Content'].apply(rnd1)\n",
    "df2"
   ]
  },
  {
   "cell_type": "code",
   "execution_count": 6,
   "metadata": {},
   "outputs": [],
   "source": [
    "import nltk\n",
    "from nltk import word_tokenize\n",
    "from nltk.corpus import stopwords\n",
    "import string\n",
    "\n",
    "stopwords = nltk.corpus.stopwords.words('english')\n",
    "t =['re','ve', 'em', 'll', 't', 's', 'don', 'ain', 'didn' ,'m' , 'wan', 'na' , 'la', 'gon', 'wan']\n",
    "\n",
    "stopwords.extend(t)\n",
    "stop = stopwords + list(string.punctuation)\n",
    "\n",
    "def cleaning(text):\n",
    "    clean_doc=[]\n",
    "    for x in text:\n",
    "        clean_sent=[]\n",
    "        for i in word_tokenize(x):\n",
    "        #for i in x.lower(): \n",
    "            if i not in stop:\n",
    "                clean_sent.append(i) \n",
    "        clean_doc.append(clean_sent)\n",
    "    return clean_doc "
   ]
  },
  {
   "cell_type": "code",
   "execution_count": 7,
   "metadata": {},
   "outputs": [
    {
     "data": {
      "text/html": [
       "<div>\n",
       "<style scoped>\n",
       "    .dataframe tbody tr th:only-of-type {\n",
       "        vertical-align: middle;\n",
       "    }\n",
       "\n",
       "    .dataframe tbody tr th {\n",
       "        vertical-align: top;\n",
       "    }\n",
       "\n",
       "    .dataframe thead th {\n",
       "        text-align: right;\n",
       "    }\n",
       "</style>\n",
       "<table border=\"1\" class=\"dataframe\">\n",
       "  <thead>\n",
       "    <tr style=\"text-align: right;\">\n",
       "      <th></th>\n",
       "      <th>Chapters</th>\n",
       "      <th>Content</th>\n",
       "    </tr>\n",
       "  </thead>\n",
       "  <tbody>\n",
       "    <tr>\n",
       "      <td>0</td>\n",
       "      <td>0</td>\n",
       "      <td>[swallowed, earth, emerson, r, c, andrews, benapole, refugee, camp, restless, families, stumbled, oppressive, haze, uncertainty, shadows, border, gates, abir, stood, line, collected, handful, rice...</td>\n",
       "    </tr>\n",
       "  </tbody>\n",
       "</table>\n",
       "</div>"
      ],
      "text/plain": [
       "   Chapters  \\\n",
       "0         0   \n",
       "\n",
       "                                                                                                                                                                                                   Content  \n",
       "0  [swallowed, earth, emerson, r, c, andrews, benapole, refugee, camp, restless, families, stumbled, oppressive, haze, uncertainty, shadows, border, gates, abir, stood, line, collected, handful, rice...  "
      ]
     },
     "execution_count": 7,
     "metadata": {},
     "output_type": "execute_result"
    }
   ],
   "source": [
    "df3 = df2.copy()\n",
    "df3['Content'] = cleaning(df3['Content'])\n",
    "df3"
   ]
  },
  {
   "cell_type": "code",
   "execution_count": 8,
   "metadata": {},
   "outputs": [
    {
     "data": {
      "text/html": [
       "<div>\n",
       "<style scoped>\n",
       "    .dataframe tbody tr th:only-of-type {\n",
       "        vertical-align: middle;\n",
       "    }\n",
       "\n",
       "    .dataframe tbody tr th {\n",
       "        vertical-align: top;\n",
       "    }\n",
       "\n",
       "    .dataframe thead th {\n",
       "        text-align: right;\n",
       "    }\n",
       "</style>\n",
       "<table border=\"1\" class=\"dataframe\">\n",
       "  <thead>\n",
       "    <tr style=\"text-align: right;\">\n",
       "      <th></th>\n",
       "      <th>Chapters</th>\n",
       "      <th>Content</th>\n",
       "    </tr>\n",
       "  </thead>\n",
       "  <tbody>\n",
       "    <tr>\n",
       "      <td>0</td>\n",
       "      <td>0</td>\n",
       "      <td>swallowed earth emerson r c andrews benapole refugee camp restless families stumbled oppressive haze uncertainty shadows border gates abir stood line collected handful rice eighty takas border off...</td>\n",
       "    </tr>\n",
       "  </tbody>\n",
       "</table>\n",
       "</div>"
      ],
      "text/plain": [
       "   Chapters  \\\n",
       "0         0   \n",
       "\n",
       "                                                                                                                                                                                                   Content  \n",
       "0  swallowed earth emerson r c andrews benapole refugee camp restless families stumbled oppressive haze uncertainty shadows border gates abir stood line collected handful rice eighty takas border off...  "
      ]
     },
     "execution_count": 8,
     "metadata": {},
     "output_type": "execute_result"
    }
   ],
   "source": [
    "s = ' '\n",
    "for i in range(len(df3)):\n",
    "    df3['Content'].loc[i] = s.join(df3['Content'].loc[i])\n",
    "df3"
   ]
  },
  {
   "cell_type": "code",
   "execution_count": 9,
   "metadata": {},
   "outputs": [],
   "source": [
    "from nltk.stem.wordnet import WordNetLemmatizer\n",
    "\n",
    "wordnet = WordNetLemmatizer()\n",
    "def Lemmatizing(text):\n",
    "    pre_doc= []\n",
    "    for word in text:\n",
    "        pre_doc.append(wordnet.lemmatize(word))\n",
    "    return pre_doc"
   ]
  },
  {
   "cell_type": "code",
   "execution_count": 10,
   "metadata": {},
   "outputs": [
    {
     "data": {
      "text/html": [
       "<div>\n",
       "<style scoped>\n",
       "    .dataframe tbody tr th:only-of-type {\n",
       "        vertical-align: middle;\n",
       "    }\n",
       "\n",
       "    .dataframe tbody tr th {\n",
       "        vertical-align: top;\n",
       "    }\n",
       "\n",
       "    .dataframe thead th {\n",
       "        text-align: right;\n",
       "    }\n",
       "</style>\n",
       "<table border=\"1\" class=\"dataframe\">\n",
       "  <thead>\n",
       "    <tr style=\"text-align: right;\">\n",
       "      <th></th>\n",
       "      <th>Chapters</th>\n",
       "      <th>Content</th>\n",
       "    </tr>\n",
       "  </thead>\n",
       "  <tbody>\n",
       "    <tr>\n",
       "      <td>0</td>\n",
       "      <td>0</td>\n",
       "      <td>swallowed earth emerson r c andrews benapole refugee camp restless families stumbled oppressive haze uncertainty shadows border gates abir stood line collected handful rice eighty takas border off...</td>\n",
       "    </tr>\n",
       "  </tbody>\n",
       "</table>\n",
       "</div>"
      ],
      "text/plain": [
       "   Chapters  \\\n",
       "0         0   \n",
       "\n",
       "                                                                                                                                                                                                   Content  \n",
       "0  swallowed earth emerson r c andrews benapole refugee camp restless families stumbled oppressive haze uncertainty shadows border gates abir stood line collected handful rice eighty takas border off...  "
      ]
     },
     "execution_count": 10,
     "metadata": {},
     "output_type": "execute_result"
    }
   ],
   "source": [
    "df4 = df3.copy()\n",
    "df4['Content'] = Lemmatizing(df4['Content'])\n",
    "df4"
   ]
  },
  {
   "cell_type": "code",
   "execution_count": 11,
   "metadata": {},
   "outputs": [
    {
     "data": {
      "text/html": [
       "<div>\n",
       "<style scoped>\n",
       "    .dataframe tbody tr th:only-of-type {\n",
       "        vertical-align: middle;\n",
       "    }\n",
       "\n",
       "    .dataframe tbody tr th {\n",
       "        vertical-align: top;\n",
       "    }\n",
       "\n",
       "    .dataframe thead th {\n",
       "        text-align: right;\n",
       "    }\n",
       "</style>\n",
       "<table border=\"1\" class=\"dataframe\">\n",
       "  <thead>\n",
       "    <tr style=\"text-align: right;\">\n",
       "      <th></th>\n",
       "      <th>abandoned</th>\n",
       "      <th>abaya</th>\n",
       "      <th>ability</th>\n",
       "      <th>abir</th>\n",
       "      <th>abundant</th>\n",
       "      <th>accustomed</th>\n",
       "      <th>acesotech</th>\n",
       "      <th>adjacent</th>\n",
       "      <th>affairs</th>\n",
       "      <th>afternoon</th>\n",
       "      <th>...</th>\n",
       "      <th>work</th>\n",
       "      <th>world</th>\n",
       "      <th>worried</th>\n",
       "      <th>wound</th>\n",
       "      <th>wrapped</th>\n",
       "      <th>writhed</th>\n",
       "      <th>yanked</th>\n",
       "      <th>yelled</th>\n",
       "      <th>yellow</th>\n",
       "      <th>yellowed</th>\n",
       "    </tr>\n",
       "    <tr>\n",
       "      <th>Chapters</th>\n",
       "      <th></th>\n",
       "      <th></th>\n",
       "      <th></th>\n",
       "      <th></th>\n",
       "      <th></th>\n",
       "      <th></th>\n",
       "      <th></th>\n",
       "      <th></th>\n",
       "      <th></th>\n",
       "      <th></th>\n",
       "      <th></th>\n",
       "      <th></th>\n",
       "      <th></th>\n",
       "      <th></th>\n",
       "      <th></th>\n",
       "      <th></th>\n",
       "      <th></th>\n",
       "      <th></th>\n",
       "      <th></th>\n",
       "      <th></th>\n",
       "      <th></th>\n",
       "    </tr>\n",
       "  </thead>\n",
       "  <tbody>\n",
       "    <tr>\n",
       "      <td>0</td>\n",
       "      <td>8</td>\n",
       "      <td>1</td>\n",
       "      <td>1</td>\n",
       "      <td>10</td>\n",
       "      <td>1</td>\n",
       "      <td>1</td>\n",
       "      <td>1</td>\n",
       "      <td>1</td>\n",
       "      <td>1</td>\n",
       "      <td>3</td>\n",
       "      <td>...</td>\n",
       "      <td>2</td>\n",
       "      <td>2</td>\n",
       "      <td>3</td>\n",
       "      <td>1</td>\n",
       "      <td>4</td>\n",
       "      <td>1</td>\n",
       "      <td>2</td>\n",
       "      <td>2</td>\n",
       "      <td>1</td>\n",
       "      <td>1</td>\n",
       "    </tr>\n",
       "  </tbody>\n",
       "</table>\n",
       "<p>1 rows × 1191 columns</p>\n",
       "</div>"
      ],
      "text/plain": [
       "          abandoned  abaya  ability  abir  abundant  accustomed  acesotech  \\\n",
       "Chapters                                                                     \n",
       "0                 8      1        1    10         1           1          1   \n",
       "\n",
       "          adjacent  affairs  afternoon  ...  work  world  worried  wound  \\\n",
       "Chapters                                ...                                \n",
       "0                1        1          3  ...     2      2        3      1   \n",
       "\n",
       "          wrapped  writhed  yanked  yelled  yellow  yellowed  \n",
       "Chapters                                                      \n",
       "0               4        1       2       2       1         1  \n",
       "\n",
       "[1 rows x 1191 columns]"
      ]
     },
     "execution_count": 11,
     "metadata": {},
     "output_type": "execute_result"
    }
   ],
   "source": [
    "from sklearn.feature_extraction.text import CountVectorizer\n",
    "\n",
    "cv = CountVectorizer(stop_words = 'english')\n",
    "df5 = cv.fit_transform(df4['Content'])\n",
    "df6 = pd.DataFrame(df5.toarray(), columns = cv.get_feature_names())\n",
    "df6.index = df4['Chapters']\n",
    "df6"
   ]
  },
  {
   "cell_type": "code",
   "execution_count": 12,
   "metadata": {},
   "outputs": [
    {
     "data": {
      "text/html": [
       "<div>\n",
       "<style scoped>\n",
       "    .dataframe tbody tr th:only-of-type {\n",
       "        vertical-align: middle;\n",
       "    }\n",
       "\n",
       "    .dataframe tbody tr th {\n",
       "        vertical-align: top;\n",
       "    }\n",
       "\n",
       "    .dataframe thead th {\n",
       "        text-align: right;\n",
       "    }\n",
       "</style>\n",
       "<table border=\"1\" class=\"dataframe\">\n",
       "  <thead>\n",
       "    <tr style=\"text-align: right;\">\n",
       "      <th>Chapters</th>\n",
       "      <th>0</th>\n",
       "    </tr>\n",
       "  </thead>\n",
       "  <tbody>\n",
       "    <tr>\n",
       "      <td>abandoned</td>\n",
       "      <td>8</td>\n",
       "    </tr>\n",
       "    <tr>\n",
       "      <td>abaya</td>\n",
       "      <td>1</td>\n",
       "    </tr>\n",
       "    <tr>\n",
       "      <td>ability</td>\n",
       "      <td>1</td>\n",
       "    </tr>\n",
       "    <tr>\n",
       "      <td>abir</td>\n",
       "      <td>10</td>\n",
       "    </tr>\n",
       "    <tr>\n",
       "      <td>abundant</td>\n",
       "      <td>1</td>\n",
       "    </tr>\n",
       "    <tr>\n",
       "      <td>...</td>\n",
       "      <td>...</td>\n",
       "    </tr>\n",
       "    <tr>\n",
       "      <td>writhed</td>\n",
       "      <td>1</td>\n",
       "    </tr>\n",
       "    <tr>\n",
       "      <td>yanked</td>\n",
       "      <td>2</td>\n",
       "    </tr>\n",
       "    <tr>\n",
       "      <td>yelled</td>\n",
       "      <td>2</td>\n",
       "    </tr>\n",
       "    <tr>\n",
       "      <td>yellow</td>\n",
       "      <td>1</td>\n",
       "    </tr>\n",
       "    <tr>\n",
       "      <td>yellowed</td>\n",
       "      <td>1</td>\n",
       "    </tr>\n",
       "  </tbody>\n",
       "</table>\n",
       "<p>1191 rows × 1 columns</p>\n",
       "</div>"
      ],
      "text/plain": [
       "Chapters    0\n",
       "abandoned   8\n",
       "abaya       1\n",
       "ability     1\n",
       "abir       10\n",
       "abundant    1\n",
       "...        ..\n",
       "writhed     1\n",
       "yanked      2\n",
       "yelled      2\n",
       "yellow      1\n",
       "yellowed    1\n",
       "\n",
       "[1191 rows x 1 columns]"
      ]
     },
     "execution_count": 12,
     "metadata": {},
     "output_type": "execute_result"
    }
   ],
   "source": [
    "df7= df6.transpose()\n",
    "df7"
   ]
  },
  {
   "cell_type": "code",
   "execution_count": 13,
   "metadata": {},
   "outputs": [],
   "source": [
    "top_dict= {}\n",
    "for c in df7.columns:\n",
    "    top = df7[c].sort_values(ascending=False).head(30)\n",
    "    top_dict[c]= list(zip(top.index, top.values))"
   ]
  },
  {
   "cell_type": "code",
   "execution_count": 14,
   "metadata": {},
   "outputs": [
    {
     "name": "stdout",
     "output_type": "stream",
     "text": [
      "0\n",
      "ava, nani, paban, water, guards, border, barikali, guard, grabbed, market, people, going, sandals, need, new, away, leave, metal, head, abir, eyes, think, ground, hand, refugees, body, big, camp, spot, turned\n",
      "------------\n"
     ]
    }
   ],
   "source": [
    "for chapter, top_words in top_dict.items ():\n",
    "    print(chapter)\n",
    "    print(', '.join([word for word, count in top_words]))\n",
    "    print('------------')"
   ]
  },
  {
   "cell_type": "code",
   "execution_count": 15,
   "metadata": {},
   "outputs": [
    {
     "data": {
      "text/plain": [
       "['ava',\n",
       " 'nani',\n",
       " 'paban',\n",
       " 'water',\n",
       " 'guards',\n",
       " 'border',\n",
       " 'barikali',\n",
       " 'guard',\n",
       " 'grabbed',\n",
       " 'market',\n",
       " 'people',\n",
       " 'going',\n",
       " 'sandals',\n",
       " 'need',\n",
       " 'new',\n",
       " 'away',\n",
       " 'leave',\n",
       " 'metal',\n",
       " 'head',\n",
       " 'abir',\n",
       " 'eyes',\n",
       " 'think',\n",
       " 'ground',\n",
       " 'hand',\n",
       " 'refugees',\n",
       " 'body',\n",
       " 'big',\n",
       " 'camp',\n",
       " 'spot',\n",
       " 'turned']"
      ]
     },
     "execution_count": 15,
     "metadata": {},
     "output_type": "execute_result"
    }
   ],
   "source": [
    "# Look at the most common top words --> add them to the stop word list\n",
    "from collections import Counter\n",
    "\n",
    "# Let's first pull out the top 30 words for each comedian\n",
    "words = []\n",
    "for i in df7.columns:\n",
    "    top = [word for (word, count) in top_dict[i]]\n",
    "    for t in top:\n",
    "        words.append(t)\n",
    "        \n",
    "Counter(words).most_common()\n",
    "add_stop_words = [word for word, count in Counter(words).most_common() if count > 0]\n",
    "add_stop_words"
   ]
  },
  {
   "cell_type": "code",
   "execution_count": 41,
   "metadata": {},
   "outputs": [],
   "source": [
    "# Libraries\n",
    "from wordcloud import WordCloud\n",
    "import matplotlib.pyplot as plt\n",
    "from PIL import Image\n",
    "\n",
    "\n",
    "def wordcloud_gen(text,i):\n",
    "    #msk = np.array(Image.open(\"mask.jpg\"))\n",
    "    # Create the wordcloud object\n",
    "    wordcloud = WordCloud(#stopwords = add_stop_words,\n",
    "                          #mask = msk,\n",
    "                          width=1080, height=1080,\n",
    "                          #width=480, height=480,\n",
    "                          #max_words=100, \n",
    "                          min_font_size = 48,\n",
    "                          #max_font_size = 480,\n",
    "                          background_color=\"#0485d1\", #white, grey, pink, skyblue\n",
    "                          colormap=\"seismic\", \n",
    "                          #Dark2, ocean, Accent, BuPu, PuBuGn, summer, Spectral,seismic\n",
    "                          random_state=42).generate(text)\n",
    "    \n",
    "    #wordcloud.to_file( str(i)+ \".png\")\n",
    "    # Display the generated image:\n",
    "    plt.figure()\n",
    "    plt.imshow(wordcloud, interpolation='bilinear')\n",
    "    plt.axis(\"off\")\n",
    "    return plt.show()"
   ]
  },
  {
   "cell_type": "code",
   "execution_count": 42,
   "metadata": {},
   "outputs": [
    {
     "name": "stdout",
     "output_type": "stream",
     "text": [
      "0\n"
     ]
    },
    {
     "data": {
      "image/png": "[encoded data removed]",
      "text/plain": [
       "<Figure size 432x288 with 1 Axes>"
      ]
     },
     "metadata": {
      "needs_background": "light"
     },
     "output_type": "display_data"
    }
   ],
   "source": [
    "for i in range (len(df4)):\n",
    "    print(df4[\"Chapters\"].loc[i])\n",
    "    wordcloud_gen(df4['Content'].loc[i],df4['Chapters'].loc[i])"
   ]
  },
  {
   "cell_type": "code",
   "execution_count": 18,
   "metadata": {},
   "outputs": [
    {
     "data": {
      "text/plain": [
       "[1374]"
      ]
     },
     "execution_count": 18,
     "metadata": {},
     "output_type": "execute_result"
    }
   ],
   "source": [
    "def unique_words(text):\n",
    "    a = text.split()\n",
    "    return len(set(a))\n",
    "\n",
    "unique_list = []\n",
    "no_of_words = []\n",
    "for i in range(len(df2)):\n",
    "    length = unique_words(df2[\"Content\"].loc[i])\n",
    "    unique_list.append(length)\n",
    "    words = len(df2[\"Content\"].loc[i].split())\n",
    "    no_of_words.append(words)\n",
    "unique_list"
   ]
  },
  {
   "cell_type": "code",
   "execution_count": 19,
   "metadata": {},
   "outputs": [
    {
     "data": {
      "text/plain": [
       "[5128]"
      ]
     },
     "execution_count": 19,
     "metadata": {},
     "output_type": "execute_result"
    }
   ],
   "source": [
    "no_of_words"
   ]
  },
  {
   "cell_type": "code",
   "execution_count": 20,
   "metadata": {},
   "outputs": [
    {
     "data": {
      "text/html": [
       "<div>\n",
       "<style scoped>\n",
       "    .dataframe tbody tr th:only-of-type {\n",
       "        vertical-align: middle;\n",
       "    }\n",
       "\n",
       "    .dataframe tbody tr th {\n",
       "        vertical-align: top;\n",
       "    }\n",
       "\n",
       "    .dataframe thead th {\n",
       "        text-align: right;\n",
       "    }\n",
       "</style>\n",
       "<table border=\"1\" class=\"dataframe\">\n",
       "  <thead>\n",
       "    <tr style=\"text-align: right;\">\n",
       "      <th></th>\n",
       "      <th>Unique Words</th>\n",
       "      <th>Total Words</th>\n",
       "      <th>Ratio_TotalbyUnique</th>\n",
       "    </tr>\n",
       "  </thead>\n",
       "  <tbody>\n",
       "    <tr>\n",
       "      <td>0</td>\n",
       "      <td>1374</td>\n",
       "      <td>5128</td>\n",
       "      <td>3.73</td>\n",
       "    </tr>\n",
       "  </tbody>\n",
       "</table>\n",
       "</div>"
      ],
      "text/plain": [
       "   Unique Words  Total Words  Ratio_TotalbyUnique\n",
       "0          1374         5128                 3.73"
      ]
     },
     "execution_count": 20,
     "metadata": {},
     "output_type": "execute_result"
    }
   ],
   "source": [
    "df8 = pd.DataFrame(list(zip(unique_list, no_of_words)),\n",
    "                   columns=['Unique Words','Total Words'])\n",
    "df8[\"Ratio_TotalbyUnique\"] = df8[\"Total Words\"] / df8[\"Unique Words\"]\n",
    "df8.sort_index().round(2)"
   ]
  },
  {
   "cell_type": "code",
   "execution_count": null,
   "metadata": {},
   "outputs": [],
   "source": []
  },
  {
   "cell_type": "code",
   "execution_count": null,
   "metadata": {},
   "outputs": [],
   "source": []
  }
 ],
 "metadata": {
  "kernelspec": {
   "display_name": "Python 3",
   "language": "python",
   "name": "python3"
  },
  "language_info": {
   "codemirror_mode": {
    "name": "ipython",
    "version": 3
   },
   "file_extension": ".py",
   "mimetype": "text/x-python",
   "name": "python",
   "nbconvert_exporter": "python",
   "pygments_lexer": "ipython3",
   "version": "3.7.4"
  }
 },
 "nbformat": 4,
 "nbformat_minor": 2
}
